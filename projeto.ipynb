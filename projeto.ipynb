{
 "cells": [
  {
   "cell_type": "markdown",
   "metadata": {},
   "source": [
    "# <center>Módulo Machine Learning<center>\n",
    "\n",
    "### Henrique Castro E Silva"
   ]
  },
  {
   "cell_type": "markdown",
   "metadata": {},
   "source": [
    "### Enunciado"
   ]
  },
  {
   "cell_type": "markdown",
   "metadata": {},
   "source": [
    "Escolha um notebook de um competidor de Kaggle que contenha um modelo de machine learning treinado (Não pegue nada que tenha Deep Learning), a partir dele você deve criar um seu criticando o que faria de melhorias no trabalho escolhido.\n",
    "\n",
    "Além da análise entregar a sua versão desse modelo."
   ]
  },
  {
   "cell_type": "markdown",
   "metadata": {},
   "source": [
    "### Competição e notebooks escolhidos"
   ]
  },
  {
   "cell_type": "markdown",
   "metadata": {},
   "source": [
    "\n",
    "A competicao escolhida foi a <a href=\"https://www.kaggle.com/c/spaceship-titanic/overview\">Spaceship Titanic</a><br/>\n",
    "\n",
    "Dentro delas diversos diferentes notebooks foram submetidos. Dentre eles eu escolhi analisar dois diferentes, apesar do enunciado pedir apenas um. Tomei essa decisao porque no primeiro notebook a analise ficara mais focada no preprocessamento de dados e no segundo no concepcao do modelo. \n",
    "\n",
    "O primeiro, que foi o mais votado dentro de todas as submissoes, se chama <a href=\"https://www.kaggle.com/code/odins0n/spaceship-titanic-eda-27-different-models/notebook\">🚀Spaceship Titanic -📊EDA + 27 different models📈</a> que explora diferentes modelos. Por fazer o refinamento de um modelo que nao foi trabalhado no curso, eu escolhi utilizar esse notebook apenas para analisar o pre processamento de dados.\n",
    "\n",
    "O segundo notebook se chama <a href=\"https://www.kaggle.com/code/meetnagadia/titanic-random-forest-score-0-79471\">🚀 Titanic: Random Forest Score 0.79471</a>.\n",
    "\n",
    "Ambos notebooks se encontram no diretorio <code>/notebook_analysis</code>"
   ]
  },
  {
   "cell_type": "markdown",
   "metadata": {},
   "source": [
    "### Dados"
   ]
  },
  {
   "cell_type": "markdown",
   "metadata": {},
   "source": [
    "\n",
    ">In this competition your task is to predict whether a passenger was transported to an alternate dimension during the Spaceship Titanic's collision with the spacetime anomaly. To help you make these predictions, you're given a set of personal records recovered from the ship's damaged computer system.\n",
    "\n",
    "O dataset foi divido em dois diferentes arquivos, um para teste e o outro para treino. Ambos se encontra no diretorio <code>/datasets</code>\n",
    "\n",
    "Mais sobre os dados pode ser encontrado <a href=\"https://www.kaggle.com/c/spaceship-titanic/data\">aqui</a>"
   ]
  },
  {
   "cell_type": "code",
   "execution_count": 46,
   "metadata": {},
   "outputs": [],
   "source": [
    "import numpy as np\n",
    "import pandas as pd\n",
    "import seaborn as sns\n",
    "import matplotlib.pyplot as plt\n",
    "\n",
    "from sklearn.impute import SimpleImputer\n",
    "from sklearn.preprocessing import LabelEncoder\n",
    "from sklearn.model_selection import train_test_split\n",
    "\n",
    "from sklearn.ensemble import RandomForestClassifier\n",
    "\n",
    "from sklearn.feature_selection import SelectKBest\n",
    "from sklearn.feature_selection import chi2\n",
    "from sklearn.model_selection import RandomizedSearchCV\n",
    "\n",
    "from sklearn.metrics import accuracy_score"
   ]
  },
  {
   "cell_type": "code",
   "execution_count": 2,
   "metadata": {},
   "outputs": [],
   "source": [
    "train = pd.read_csv('./datasets/train.csv')\n",
    "test = pd.read_csv('./datasets/test.csv')"
   ]
  },
  {
   "cell_type": "markdown",
   "metadata": {},
   "source": [
    "# Notebook 1 - EDA + 27 Models\n",
    "O primeiro notebook apresenta uma analise detalhada e aprofundada do dataset, nao supreende ser o mais bem votado da competicao. Durante minha analise dele notei alguns, poucos, pontos que poderiam ser abordados de forma diferente possibilitando um POSSIVEL melhora."
   ]
  },
  {
   "cell_type": "markdown",
   "metadata": {},
   "source": [
    "## Lidando com NaN's"
   ]
  },
  {
   "cell_type": "markdown",
   "metadata": {},
   "source": [
    "### Imputing"
   ]
  },
  {
   "cell_type": "markdown",
   "metadata": {},
   "source": [
    "Para lidar com dados nulos o autor imputou valores numericos com a mediana. Para isso ele instancia a classe SimpleImputer, fita nos dados de treino e transforma dados de treino e teste.\n",
    "\n",
    "Nesse momento existe uma pequena correção que podemos fazer. Ao inves de usar o mesmo SimpleImputer treinado em treino, podemos usar dois independentes, um para teste e um para treino, evitando carregar dados de um para outro.\n",
    "\n",
    "Referencia: Celula executada 22"
   ]
  },
  {
   "cell_type": "code",
   "execution_count": 3,
   "metadata": {},
   "outputs": [],
   "source": [
    "imputer_cols = [\"Age\", \"FoodCourt\", \"ShoppingMall\", \"Spa\", \"VRDeck\" ,\"RoomService\"]\n",
    "\n",
    "train[imputer_cols] = SimpleImputer(strategy='median').fit_transform(train[imputer_cols])\n",
    "test[imputer_cols] = SimpleImputer(strategy='median').fit_transform(test[imputer_cols])"
   ]
  },
  {
   "cell_type": "markdown",
   "metadata": {},
   "source": [
    "### Categoricos"
   ]
  },
  {
   "cell_type": "markdown",
   "metadata": {},
   "source": [
    "Para as colunas categoricas, o autor usa o LabelEncoder sem antes tratar valores NaN. Por serem poucos, essa abordagem pode realmente ser a ideal, mas por mero capricho quis explorar um pouco mais os missing e tentar tratar algum.\n",
    "\n",
    "As colunas categoricas sao **[\"HomePlanet\", \"CryoSleep\",\"Cabin\", \"Destination\" ,\"VIP\"]** \n",
    "\n",
    "Referencia: Celula executada 23"
   ]
  },
  {
   "cell_type": "markdown",
   "metadata": {},
   "source": [
    "HomePlanet corresponde ao planeta de onde o passageiro saiu. Ao observar as features temos que a feature **PassengerId** e composta por dois numeros. O interessante a notar sao os 4 primeiros digitos, que segundo a descricao de dados _gggg indicates a group the passenger is travelling_ e que _People in a group are often family members, but not always_.\n",
    "\n",
    "Tendo isso em vista, quis analisar se pessoas de um mesmo grupo sempre saem de um mesmo planeta"
   ]
  },
  {
   "cell_type": "code",
   "execution_count": 4,
   "metadata": {},
   "outputs": [
    {
     "data": {
      "text/plain": [
       "201"
      ]
     },
     "execution_count": 4,
     "metadata": {},
     "output_type": "execute_result"
    }
   ],
   "source": [
    "train['HomePlanet'].isna().sum()"
   ]
  },
  {
   "cell_type": "code",
   "execution_count": 5,
   "metadata": {},
   "outputs": [],
   "source": [
    "train[['groupId','selfId']] = train['PassengerId'].str.split('_', 1, expand=True)\n",
    "test[['groupId','selfId']] = test['PassengerId'].str.split('_', 1, expand=True)"
   ]
  },
  {
   "cell_type": "code",
   "execution_count": 6,
   "metadata": {},
   "outputs": [
    {
     "data": {
      "text/plain": [
       "groupId\n",
       "0001    [Europa]\n",
       "0002     [Earth]\n",
       "0003    [Europa]\n",
       "0004     [Earth]\n",
       "0005     [Earth]\n",
       "          ...   \n",
       "9275    [Europa]\n",
       "9276    [Europa]\n",
       "9278     [Earth]\n",
       "9279     [Earth]\n",
       "9280    [Europa]\n",
       "Name: HomePlanet, Length: 6217, dtype: object"
      ]
     },
     "execution_count": 6,
     "metadata": {},
     "output_type": "execute_result"
    }
   ],
   "source": [
    "train.groupby('groupId')['HomePlanet'].unique()"
   ]
  },
  {
   "cell_type": "code",
   "execution_count": 7,
   "metadata": {},
   "outputs": [
    {
     "name": "stdout",
     "output_type": "stream",
     "text": [
      "0\n",
      "0\n"
     ]
    }
   ],
   "source": [
    "unique_homeplanet_train = train.groupby('groupId')['HomePlanet'].nunique()\n",
    "unique_homeplanet_test = test.groupby('groupId')['HomePlanet'].nunique()\n",
    "print(sum(np.where(unique_homeplanet_train > 1, 1, 0)))\n",
    "print(sum(np.where(unique_homeplanet_test > 1, 1, 0)))"
   ]
  },
  {
   "cell_type": "markdown",
   "metadata": {},
   "source": [
    "O codigo acima agrupa todos passageiros que estao no mesmo grupo e avalia se eles vieram do mesmo planeta. Como observado acima, em ambos test e treino, nao existe um grupo que possua pessoas que vieram de HomePlanet diferentes. Entao poderiamos imputar nos NaN's de HomePlanet o valor de outro membro do grupo. (Como nao possuimos ninguem de negocio, vou assumir que essa hipotese e valida)"
   ]
  },
  {
   "cell_type": "code",
   "execution_count": 8,
   "metadata": {},
   "outputs": [],
   "source": [
    "train['HomePlanet'] = train.groupby('groupId')['HomePlanet'].apply(lambda x: x.ffill().bfill())"
   ]
  },
  {
   "cell_type": "markdown",
   "metadata": {},
   "source": [
    "Apesar disso, so tiramos 90 NaN's e ainda nos restam outros NaN's nessa categoria 🙃🙃😅😅 mas pelo menos tentamos"
   ]
  },
  {
   "cell_type": "code",
   "execution_count": 9,
   "metadata": {},
   "outputs": [
    {
     "data": {
      "text/plain": [
       "111"
      ]
     },
     "execution_count": 9,
     "metadata": {},
     "output_type": "execute_result"
    }
   ],
   "source": [
    "train['HomePlanet'].isna().sum()"
   ]
  },
  {
   "cell_type": "code",
   "execution_count": 10,
   "metadata": {},
   "outputs": [],
   "source": [
    "train[\"HomePlanet\"].fillna('Z', inplace=True)\n",
    "test[\"HomePlanet\"].fillna('Z', inplace=True)"
   ]
  },
  {
   "cell_type": "markdown",
   "metadata": {},
   "source": [
    "Tanto para essa coluna, quanto para as outras colunas categoricas poderiamos tentar usar outros metodos de imputing como o **KNNImputer**, mas como discutido em aula, isso poderia causar trazer um vies extra dentro do modelo. Entao acho que nao e necessario"
   ]
  },
  {
   "cell_type": "markdown",
   "metadata": {},
   "source": [
    "### Encoding"
   ]
  },
  {
   "cell_type": "markdown",
   "metadata": {},
   "source": [
    "Uma mini nota que vale observar e que no notebook original o autor utiliza do LabelEncoder para fazer encoding das features. Esse tipo de encoding nao e necessariamente o melhor tipo de encoding, dependendo do funcionamento do modelo que esta sendo usado. No modelo de RandomForest, que vamos analisar no proximo notebook, o uso de LabelEncoder e o mais adequado, porem como neste notebook estao sendo avalidos 27 modelos, para alguns essa forma de encoding os dados nao condiz, podendo acarretar em perda de performance\n",
    "\n",
    "Referencia: Celula executada 23"
   ]
  },
  {
   "cell_type": "code",
   "execution_count": 11,
   "metadata": {},
   "outputs": [],
   "source": [
    "label_cols = [\"HomePlanet\", \"CryoSleep\",\"Cabin\", \"Destination\" ,\"VIP\"]\n",
    "def label_encoder(train,test,columns):\n",
    "    train[columns] = train[columns].astype(str)\n",
    "    test[columns] = test[columns].astype(str)\n",
    "\n",
    "    train[columns] = LabelEncoder().fit_transform(train[columns])\n",
    "    test[columns] =  LabelEncoder().fit_transform(test[columns])\n",
    "    \n",
    "    return train, test\n",
    "\n",
    "train ,test = label_encoder(train,test ,label_cols)"
   ]
  },
  {
   "cell_type": "markdown",
   "metadata": {},
   "source": [
    "## Graficos"
   ]
  },
  {
   "cell_type": "markdown",
   "metadata": {},
   "source": [
    "O autor durante a fase de EDA plota a distribuicao de dados entre as features categoricas. Ao fazer isso as cores dos graficos acabaram tornando um pouco confuso e os graficos nao ficaram \"stackados\", entao resolvi consertar esse grafico.\n",
    "\n",
    "Referencia: Celula executada 18 e seu output"
   ]
  },
  {
   "cell_type": "code",
   "execution_count": 12,
   "metadata": {},
   "outputs": [],
   "source": [
    "train['dataset'] = 'train'\n",
    "test['dataset'] = 'test'\n",
    "df = pd.concat([train, test])"
   ]
  },
  {
   "cell_type": "code",
   "execution_count": 13,
   "metadata": {},
   "outputs": [
    {
     "data": {
      "text/plain": [
       "0.0    5439\n",
       "1.0    3037\n",
       "2.0     217\n",
       "Name: CryoSleep, dtype: int64"
      ]
     },
     "execution_count": 13,
     "metadata": {},
     "output_type": "execute_result"
    }
   ],
   "source": [
    "train['CryoSleep'].value_counts()"
   ]
  },
  {
   "cell_type": "code",
   "execution_count": 14,
   "metadata": {},
   "outputs": [
    {
     "data": {
      "text/plain": [
       "<AxesSubplot:xlabel='VIP'>"
      ]
     },
     "execution_count": 14,
     "metadata": {},
     "output_type": "execute_result"
    },
    {
     "data": {
      "image/png": "[encoded data removed]",
      "text/plain": [
       "<Figure size 1296x720 with 4 Axes>"
      ]
     },
     "metadata": {
      "needs_background": "light"
     },
     "output_type": "display_data"
    }
   ],
   "source": [
    "fig, axes = plt.subplots(2, 2, figsize=(18, 10))\n",
    "\n",
    "df.groupby(['HomePlanet', 'dataset']).size().reset_index()\\\n",
    "    .pivot(columns='dataset', index='HomePlanet', values=0).plot(kind='bar', stacked=True, ax=axes[0][0])\n",
    "\n",
    "df.groupby(['CryoSleep', 'dataset']).size().reset_index()\\\n",
    "    .pivot(columns='dataset', index='CryoSleep', values=0).plot(kind='bar', stacked=True, ax=axes[0][1])\n",
    "\n",
    "df.groupby(['Destination', 'dataset']).size().reset_index()\\\n",
    "    .pivot(columns='dataset', index='Destination', values=0).plot(kind='bar', stacked=True, ax=axes[1][0])\n",
    "\n",
    "df.groupby(['VIP', 'dataset']).size().reset_index()\\\n",
    "    .pivot(columns='dataset', index='VIP', values=0).plot(kind='bar', stacked=True, ax=axes[1][1])"
   ]
  },
  {
   "cell_type": "markdown",
   "metadata": {},
   "source": [
    "Enquanto fazia esses graficos, construi outra vizualização que também interessante observar"
   ]
  },
  {
   "cell_type": "code",
   "execution_count": 15,
   "metadata": {},
   "outputs": [
    {
     "data": {
      "text/plain": [
       "<AxesSubplot:xlabel='VIP', ylabel='VRDeck'>"
      ]
     },
     "execution_count": 15,
     "metadata": {},
     "output_type": "execute_result"
    },
    {
     "data": {
      "image/png": "[encoded data removed]",
      "text/plain": [
       "<Figure size 1296x720 with 6 Axes>"
      ]
     },
     "metadata": {
      "needs_background": "light"
     },
     "output_type": "display_data"
    }
   ],
   "source": [
    "fig, axes = plt.subplots(3, 2, figsize=(18, 10))\n",
    "\n",
    "fig.suptitle(\"$ spent on service vs VIP & Non-VIP\", fontsize=16)\n",
    "sns.barplot(data = train, y='FoodCourt', x='VIP', ax=axes[0][0])\n",
    "sns.barplot(data = train, y='RoomService', x='VIP', ax=axes[0][1])\n",
    "sns.barplot(data = train, y='ShoppingMall', x='VIP', ax=axes[1][0])\n",
    "sns.barplot(data = train, y='Spa', x='VIP', ax=axes[1][1])\n",
    "sns.barplot(data = train, y='VRDeck', x='VIP', ax=axes[2][0])"
   ]
  },
  {
   "cell_type": "markdown",
   "metadata": {},
   "source": [
    "# Notebook 2 - Random Forest Search\n",
    "Esse notebook e uma continuacao de outro notebook do mesmo autor. Ele quebra os notebooks em duas partes, uma de EDA, que ao inves de analisar eu preferi ignorar uma vez que ja analisei um notebook de EDA, e a segunda metade que possui a criacao do modelo.\n",
    "\n",
    "Para resolver o problema o autor utiliza do Random Forest, contudo ele nao faz a otimizao de hiperparametros nem feature selection, que talvez nesse caso por ter poucas features nao seja muito necessario. Nesse sessao vou implementar essas duas mudancas para ver se podemos ter ganhos\n",
    "\n",
    "Outro ponto que vale mencionar e que o autor nao dropa a coluna PassengerID, que e uma indentiicacao unica do passageiro, portanto precisa ser dropada.\n",
    "\n",
    "O autor tambem nao splita o X_train em X_val."
   ]
  },
  {
   "cell_type": "code",
   "execution_count": 16,
   "metadata": {},
   "outputs": [],
   "source": [
    "train = train.drop(columns=['groupId', 'selfId','dataset'])\n",
    "test = test.drop(columns=['groupId', 'selfId','dataset'])"
   ]
  },
  {
   "cell_type": "code",
   "execution_count": 17,
   "metadata": {},
   "outputs": [],
   "source": [
    "X_train = train.drop(columns=['Transported','PassengerId', 'Name', 'Cabin'])\n",
    "y_train = np.where(train['Transported'], 1, 0)"
   ]
  },
  {
   "cell_type": "code",
   "execution_count": 37,
   "metadata": {},
   "outputs": [],
   "source": [
    "X_train, X_val, y_train, y_val = train_test_split(X_train, y_train, train_size=0.7, random_state=42, stratify=y_train)"
   ]
  },
  {
   "cell_type": "markdown",
   "metadata": {},
   "source": [
    "## Baseline"
   ]
  },
  {
   "cell_type": "code",
   "execution_count": 41,
   "metadata": {},
   "outputs": [
    {
     "data": {
      "text/plain": [
       "0.7948619631901841"
      ]
     },
     "execution_count": 41,
     "metadata": {},
     "output_type": "execute_result"
    }
   ],
   "source": [
    "model = RandomForestClassifier(max_depth=10, random_state=42)\n",
    "model.fit(X_train, y_train)\n",
    "\n",
    "y_pred = model.predict(X_val)\n",
    "\n",
    "accuracy_score(y_val, y_pred)"
   ]
  },
  {
   "cell_type": "markdown",
   "metadata": {},
   "source": [
    "## Feature Selection - Chi2"
   ]
  },
  {
   "cell_type": "markdown",
   "metadata": {},
   "source": [
    "Abaixo vamos avaliar com a metrica de chi2, quais features podem ser mais interessantes para nosso modelo"
   ]
  },
  {
   "cell_type": "code",
   "execution_count": 18,
   "metadata": {},
   "outputs": [
    {
     "data": {
      "text/plain": [
       "SelectKBest(k=5, score_func=<function chi2 at 0x000001BABE3E61F8>)"
      ]
     },
     "execution_count": 18,
     "metadata": {},
     "output_type": "execute_result"
    }
   ],
   "source": [
    "fs = SelectKBest(score_func=chi2, k=5)\n",
    "fs.fit(X_train, y_train)"
   ]
  },
  {
   "cell_type": "code",
   "execution_count": 35,
   "metadata": {},
   "outputs": [
    {
     "name": "stdout",
     "output_type": "stream",
     "text": [
      "Feature          Spa:\t 1726733.192961\n",
      "Feature       VRDeck:\t 1573321.109084\n",
      "Feature  RoomService:\t 1002140.709290\n",
      "Feature    FoodCourt:\t  102562.057756\n",
      "Feature ShoppingMall:\t    1616.604682\n",
      "Feature    CryoSleep:\t    1033.372808\n",
      "Feature          Age:\t     342.173364\n",
      "Feature   HomePlanet:\t     104.956434\n",
      "Feature  Destination:\t      44.485285\n",
      "Feature          VIP:\t       2.831028\n"
     ]
    }
   ],
   "source": [
    "for i, val in sorted([(i, val) for i, val in enumerate(fs.scores_)], key=lambda x: x[1], reverse=True):\n",
    "\tprint('Feature %12s:\\t%15f' % (X_train.columns[i], fs.scores_[i]))"
   ]
  },
  {
   "cell_type": "code",
   "execution_count": 42,
   "metadata": {},
   "outputs": [
    {
     "data": {
      "text/plain": [
       "0.7967791411042945"
      ]
     },
     "execution_count": 42,
     "metadata": {},
     "output_type": "execute_result"
    }
   ],
   "source": [
    "model_chi2 = RandomForestClassifier(max_depth=10, random_state=42)\n",
    "\n",
    "X_train_chi2 = fs.transform(X_train)\n",
    "X_val_chi2 = fs.transform(X_val)\n",
    "\n",
    "model_chi2.fit(X_train_chi2, y_train)\n",
    "\n",
    "y_pred = model_chi2.predict(X_val_chi2)\n",
    "accuracy_score(y_val, y_pred)"
   ]
  },
  {
   "cell_type": "markdown",
   "metadata": {},
   "source": [
    "Usando as 5 melhores features do modelo, segundo o metodo de chi2, conseguimos aumentar a acuracia em 0.002, que nao e uma ganho muito consideravel mas ainda sim e algo."
   ]
  },
  {
   "cell_type": "markdown",
   "metadata": {},
   "source": [
    "## Hiperparameters tuning"
   ]
  },
  {
   "cell_type": "code",
   "execution_count": 43,
   "metadata": {},
   "outputs": [],
   "source": [
    "espaco_hiperparametros ={\n",
    "    'n_estimators': [10, 100, 200, 500],\n",
    "    'max_depth' : [None, 5, 7, 10, 12, 15],\n",
    "    'min_samples_split' : list(range(2, 10)),\n",
    "    'min_samples_leaf': list(range(1,10))\n",
    "}"
   ]
  },
  {
   "cell_type": "code",
   "execution_count": 44,
   "metadata": {},
   "outputs": [],
   "source": [
    "model_hipertuning = RandomForestClassifier(random_state=42)"
   ]
  },
  {
   "cell_type": "code",
   "execution_count": 50,
   "metadata": {},
   "outputs": [
    {
     "name": "stdout",
     "output_type": "stream",
     "text": [
      "Fitting 3 folds for each of 50 candidates, totalling 150 fits\n",
      "[CV 1/3; 1/50] START max_depth=15, min_samples_leaf=5, min_samples_split=3, n_estimators=100\n",
      "[CV 1/3; 1/50] END max_depth=15, min_samples_leaf=5, min_samples_split=3, n_estimators=100;, score=0.791 total time=   0.4s\n",
      "[CV 2/3; 1/50] START max_depth=15, min_samples_leaf=5, min_samples_split=3, n_estimators=100\n",
      "[CV 2/3; 1/50] END max_depth=15, min_samples_leaf=5, min_samples_split=3, n_estimators=100;, score=0.797 total time=   0.3s\n",
      "[CV 3/3; 1/50] START max_depth=15, min_samples_leaf=5, min_samples_split=3, n_estimators=100\n",
      "[CV 3/3; 1/50] END max_depth=15, min_samples_leaf=5, min_samples_split=3, n_estimators=100;, score=0.785 total time=   0.3s\n",
      "[CV 1/3; 2/50] START max_depth=12, min_samples_leaf=8, min_samples_split=3, n_estimators=10\n",
      "[CV 1/3; 2/50] END max_depth=12, min_samples_leaf=8, min_samples_split=3, n_estimators=10;, score=0.786 total time=   0.0s\n",
      "[CV 2/3; 2/50] START max_depth=12, min_samples_leaf=8, min_samples_split=3, n_estimators=10\n",
      "[CV 2/3; 2/50] END max_depth=12, min_samples_leaf=8, min_samples_split=3, n_estimators=10;, score=0.790 total time=   0.0s\n",
      "[CV 3/3; 2/50] START max_depth=12, min_samples_leaf=8, min_samples_split=3, n_estimators=10\n",
      "[CV 3/3; 2/50] END max_depth=12, min_samples_leaf=8, min_samples_split=3, n_estimators=10;, score=0.779 total time=   0.0s\n",
      "[CV 1/3; 3/50] START max_depth=None, min_samples_leaf=8, min_samples_split=6, n_estimators=100\n",
      "[CV 1/3; 3/50] END max_depth=None, min_samples_leaf=8, min_samples_split=6, n_estimators=100;, score=0.798 total time=   0.3s\n",
      "[CV 2/3; 3/50] START max_depth=None, min_samples_leaf=8, min_samples_split=6, n_estimators=100\n",
      "[CV 2/3; 3/50] END max_depth=None, min_samples_leaf=8, min_samples_split=6, n_estimators=100;, score=0.795 total time=   0.3s\n",
      "[CV 3/3; 3/50] START max_depth=None, min_samples_leaf=8, min_samples_split=6, n_estimators=100\n",
      "[CV 3/3; 3/50] END max_depth=None, min_samples_leaf=8, min_samples_split=6, n_estimators=100;, score=0.790 total time=   0.4s\n",
      "[CV 1/3; 4/50] START max_depth=None, min_samples_leaf=1, min_samples_split=3, n_estimators=100\n",
      "[CV 1/3; 4/50] END max_depth=None, min_samples_leaf=1, min_samples_split=3, n_estimators=100;, score=0.784 total time=   0.5s\n",
      "[CV 2/3; 4/50] START max_depth=None, min_samples_leaf=1, min_samples_split=3, n_estimators=100\n",
      "[CV 2/3; 4/50] END max_depth=None, min_samples_leaf=1, min_samples_split=3, n_estimators=100;, score=0.776 total time=   0.5s\n",
      "[CV 3/3; 4/50] START max_depth=None, min_samples_leaf=1, min_samples_split=3, n_estimators=100\n",
      "[CV 3/3; 4/50] END max_depth=None, min_samples_leaf=1, min_samples_split=3, n_estimators=100;, score=0.776 total time=   0.4s\n",
      "[CV 1/3; 5/50] START max_depth=7, min_samples_leaf=7, min_samples_split=9, n_estimators=500\n",
      "[CV 1/3; 5/50] END max_depth=7, min_samples_leaf=7, min_samples_split=9, n_estimators=500;, score=0.784 total time=   1.6s\n",
      "[CV 2/3; 5/50] START max_depth=7, min_samples_leaf=7, min_samples_split=9, n_estimators=500\n",
      "[CV 2/3; 5/50] END max_depth=7, min_samples_leaf=7, min_samples_split=9, n_estimators=500;, score=0.787 total time=   1.5s\n",
      "[CV 3/3; 5/50] START max_depth=7, min_samples_leaf=7, min_samples_split=9, n_estimators=500\n",
      "[CV 3/3; 5/50] END max_depth=7, min_samples_leaf=7, min_samples_split=9, n_estimators=500;, score=0.797 total time=   1.6s\n",
      "[CV 1/3; 6/50] START max_depth=10, min_samples_leaf=3, min_samples_split=5, n_estimators=10\n",
      "[CV 1/3; 6/50] END max_depth=10, min_samples_leaf=3, min_samples_split=5, n_estimators=10;, score=0.786 total time=   0.0s\n",
      "[CV 2/3; 6/50] START max_depth=10, min_samples_leaf=3, min_samples_split=5, n_estimators=10\n",
      "[CV 2/3; 6/50] END max_depth=10, min_samples_leaf=3, min_samples_split=5, n_estimators=10;, score=0.792 total time=   0.0s\n",
      "[CV 3/3; 6/50] START max_depth=10, min_samples_leaf=3, min_samples_split=5, n_estimators=10\n",
      "[CV 3/3; 6/50] END max_depth=10, min_samples_leaf=3, min_samples_split=5, n_estimators=10;, score=0.785 total time=   0.0s\n",
      "[CV 1/3; 7/50] START max_depth=5, min_samples_leaf=3, min_samples_split=9, n_estimators=100\n",
      "[CV 1/3; 7/50] END max_depth=5, min_samples_leaf=3, min_samples_split=9, n_estimators=100;, score=0.775 total time=   0.2s\n",
      "[CV 2/3; 7/50] START max_depth=5, min_samples_leaf=3, min_samples_split=9, n_estimators=100\n",
      "[CV 2/3; 7/50] END max_depth=5, min_samples_leaf=3, min_samples_split=9, n_estimators=100;, score=0.785 total time=   0.2s\n",
      "[CV 3/3; 7/50] START max_depth=5, min_samples_leaf=3, min_samples_split=9, n_estimators=100\n",
      "[CV 3/3; 7/50] END max_depth=5, min_samples_leaf=3, min_samples_split=9, n_estimators=100;, score=0.783 total time=   0.2s\n",
      "[CV 1/3; 8/50] START max_depth=None, min_samples_leaf=6, min_samples_split=8, n_estimators=10\n",
      "[CV 1/3; 8/50] END max_depth=None, min_samples_leaf=6, min_samples_split=8, n_estimators=10;, score=0.791 total time=   0.0s\n",
      "[CV 2/3; 8/50] START max_depth=None, min_samples_leaf=6, min_samples_split=8, n_estimators=10\n",
      "[CV 2/3; 8/50] END max_depth=None, min_samples_leaf=6, min_samples_split=8, n_estimators=10;, score=0.786 total time=   0.0s\n",
      "[CV 3/3; 8/50] START max_depth=None, min_samples_leaf=6, min_samples_split=8, n_estimators=10\n",
      "[CV 3/3; 8/50] END max_depth=None, min_samples_leaf=6, min_samples_split=8, n_estimators=10;, score=0.779 total time=   0.0s\n",
      "[CV 1/3; 9/50] START max_depth=5, min_samples_leaf=8, min_samples_split=8, n_estimators=10\n",
      "[CV 1/3; 9/50] END max_depth=5, min_samples_leaf=8, min_samples_split=8, n_estimators=10;, score=0.779 total time=   0.0s\n",
      "[CV 2/3; 9/50] START max_depth=5, min_samples_leaf=8, min_samples_split=8, n_estimators=10\n",
      "[CV 2/3; 9/50] END max_depth=5, min_samples_leaf=8, min_samples_split=8, n_estimators=10;, score=0.780 total time=   0.0s\n",
      "[CV 3/3; 9/50] START max_depth=5, min_samples_leaf=8, min_samples_split=8, n_estimators=10\n",
      "[CV 3/3; 9/50] END max_depth=5, min_samples_leaf=8, min_samples_split=8, n_estimators=10;, score=0.774 total time=   0.0s\n",
      "[CV 1/3; 10/50] START max_depth=15, min_samples_leaf=3, min_samples_split=4, n_estimators=200\n",
      "[CV 1/3; 10/50] END max_depth=15, min_samples_leaf=3, min_samples_split=4, n_estimators=200;, score=0.796 total time=   0.7s\n",
      "[CV 2/3; 10/50] START max_depth=15, min_samples_leaf=3, min_samples_split=4, n_estimators=200\n",
      "[CV 2/3; 10/50] END max_depth=15, min_samples_leaf=3, min_samples_split=4, n_estimators=200;, score=0.790 total time=   0.7s\n",
      "[CV 3/3; 10/50] START max_depth=15, min_samples_leaf=3, min_samples_split=4, n_estimators=200\n",
      "[CV 3/3; 10/50] END max_depth=15, min_samples_leaf=3, min_samples_split=4, n_estimators=200;, score=0.786 total time=   0.7s\n",
      "[CV 1/3; 11/50] START max_depth=5, min_samples_leaf=8, min_samples_split=5, n_estimators=200\n",
      "[CV 1/3; 11/50] END max_depth=5, min_samples_leaf=8, min_samples_split=5, n_estimators=200;, score=0.778 total time=   0.4s\n",
      "[CV 2/3; 11/50] START max_depth=5, min_samples_leaf=8, min_samples_split=5, n_estimators=200\n",
      "[CV 2/3; 11/50] END max_depth=5, min_samples_leaf=8, min_samples_split=5, n_estimators=200;, score=0.781 total time=   0.5s\n",
      "[CV 3/3; 11/50] START max_depth=5, min_samples_leaf=8, min_samples_split=5, n_estimators=200\n",
      "[CV 3/3; 11/50] END max_depth=5, min_samples_leaf=8, min_samples_split=5, n_estimators=200;, score=0.780 total time=   0.5s\n",
      "[CV 1/3; 12/50] START max_depth=15, min_samples_leaf=1, min_samples_split=9, n_estimators=10\n",
      "[CV 1/3; 12/50] END max_depth=15, min_samples_leaf=1, min_samples_split=9, n_estimators=10;, score=0.788 total time=   0.0s\n",
      "[CV 2/3; 12/50] START max_depth=15, min_samples_leaf=1, min_samples_split=9, n_estimators=10\n",
      "[CV 2/3; 12/50] END max_depth=15, min_samples_leaf=1, min_samples_split=9, n_estimators=10;, score=0.781 total time=   0.0s\n",
      "[CV 3/3; 12/50] START max_depth=15, min_samples_leaf=1, min_samples_split=9, n_estimators=10\n",
      "[CV 3/3; 12/50] END max_depth=15, min_samples_leaf=1, min_samples_split=9, n_estimators=10;, score=0.777 total time=   0.0s\n",
      "[CV 1/3; 13/50] START max_depth=15, min_samples_leaf=8, min_samples_split=4, n_estimators=10\n",
      "[CV 1/3; 13/50] END max_depth=15, min_samples_leaf=8, min_samples_split=4, n_estimators=10;, score=0.790 total time=   0.0s\n",
      "[CV 2/3; 13/50] START max_depth=15, min_samples_leaf=8, min_samples_split=4, n_estimators=10\n",
      "[CV 2/3; 13/50] END max_depth=15, min_samples_leaf=8, min_samples_split=4, n_estimators=10;, score=0.787 total time=   0.0s\n",
      "[CV 3/3; 13/50] START max_depth=15, min_samples_leaf=8, min_samples_split=4, n_estimators=10\n",
      "[CV 3/3; 13/50] END max_depth=15, min_samples_leaf=8, min_samples_split=4, n_estimators=10;, score=0.784 total time=   0.0s\n",
      "[CV 1/3; 14/50] START max_depth=15, min_samples_leaf=1, min_samples_split=7, n_estimators=500\n",
      "[CV 1/3; 14/50] END max_depth=15, min_samples_leaf=1, min_samples_split=7, n_estimators=500;, score=0.791 total time=   2.0s\n",
      "[CV 2/3; 14/50] START max_depth=15, min_samples_leaf=1, min_samples_split=7, n_estimators=500\n",
      "[CV 2/3; 14/50] END max_depth=15, min_samples_leaf=1, min_samples_split=7, n_estimators=500;, score=0.784 total time=   1.9s\n",
      "[CV 3/3; 14/50] START max_depth=15, min_samples_leaf=1, min_samples_split=7, n_estimators=500\n",
      "[CV 3/3; 14/50] END max_depth=15, min_samples_leaf=1, min_samples_split=7, n_estimators=500;, score=0.779 total time=   1.9s\n",
      "[CV 1/3; 15/50] START max_depth=15, min_samples_leaf=5, min_samples_split=7, n_estimators=500\n",
      "[CV 1/3; 15/50] END max_depth=15, min_samples_leaf=5, min_samples_split=7, n_estimators=500;, score=0.796 total time=   1.9s\n",
      "[CV 2/3; 15/50] START max_depth=15, min_samples_leaf=5, min_samples_split=7, n_estimators=500\n",
      "[CV 2/3; 15/50] END max_depth=15, min_samples_leaf=5, min_samples_split=7, n_estimators=500;, score=0.794 total time=   1.7s\n",
      "[CV 3/3; 15/50] START max_depth=15, min_samples_leaf=5, min_samples_split=7, n_estimators=500\n",
      "[CV 3/3; 15/50] END max_depth=15, min_samples_leaf=5, min_samples_split=7, n_estimators=500;, score=0.784 total time=   1.7s\n",
      "[CV 1/3; 16/50] START max_depth=7, min_samples_leaf=1, min_samples_split=4, n_estimators=200\n",
      "[CV 1/3; 16/50] END max_depth=7, min_samples_leaf=1, min_samples_split=4, n_estimators=200;, score=0.786 total time=   0.5s\n",
      "[CV 2/3; 16/50] START max_depth=7, min_samples_leaf=1, min_samples_split=4, n_estimators=200\n",
      "[CV 2/3; 16/50] END max_depth=7, min_samples_leaf=1, min_samples_split=4, n_estimators=200;, score=0.786 total time=   0.5s\n",
      "[CV 3/3; 16/50] START max_depth=7, min_samples_leaf=1, min_samples_split=4, n_estimators=200\n",
      "[CV 3/3; 16/50] END max_depth=7, min_samples_leaf=1, min_samples_split=4, n_estimators=200;, score=0.795 total time=   0.5s\n",
      "[CV 1/3; 17/50] START max_depth=7, min_samples_leaf=9, min_samples_split=3, n_estimators=500\n",
      "[CV 1/3; 17/50] END max_depth=7, min_samples_leaf=9, min_samples_split=3, n_estimators=500;, score=0.789 total time=   1.4s\n",
      "[CV 2/3; 17/50] START max_depth=7, min_samples_leaf=9, min_samples_split=3, n_estimators=500\n",
      "[CV 2/3; 17/50] END max_depth=7, min_samples_leaf=9, min_samples_split=3, n_estimators=500;, score=0.789 total time=   1.4s\n",
      "[CV 3/3; 17/50] START max_depth=7, min_samples_leaf=9, min_samples_split=3, n_estimators=500\n",
      "[CV 3/3; 17/50] END max_depth=7, min_samples_leaf=9, min_samples_split=3, n_estimators=500;, score=0.796 total time=   1.4s\n",
      "[CV 1/3; 18/50] START max_depth=None, min_samples_leaf=8, min_samples_split=2, n_estimators=200\n",
      "[CV 1/3; 18/50] END max_depth=None, min_samples_leaf=8, min_samples_split=2, n_estimators=200;, score=0.797 total time=   0.6s\n",
      "[CV 2/3; 18/50] START max_depth=None, min_samples_leaf=8, min_samples_split=2, n_estimators=200\n",
      "[CV 2/3; 18/50] END max_depth=None, min_samples_leaf=8, min_samples_split=2, n_estimators=200;, score=0.793 total time=   0.6s\n",
      "[CV 3/3; 18/50] START max_depth=None, min_samples_leaf=8, min_samples_split=2, n_estimators=200\n",
      "[CV 3/3; 18/50] END max_depth=None, min_samples_leaf=8, min_samples_split=2, n_estimators=200;, score=0.792 total time=   0.6s\n",
      "[CV 1/3; 19/50] START max_depth=None, min_samples_leaf=6, min_samples_split=8, n_estimators=100\n",
      "[CV 1/3; 19/50] END max_depth=None, min_samples_leaf=6, min_samples_split=8, n_estimators=100;, score=0.796 total time=   0.3s\n",
      "[CV 2/3; 19/50] START max_depth=None, min_samples_leaf=6, min_samples_split=8, n_estimators=100\n",
      "[CV 2/3; 19/50] END max_depth=None, min_samples_leaf=6, min_samples_split=8, n_estimators=100;, score=0.795 total time=   0.3s\n",
      "[CV 3/3; 19/50] START max_depth=None, min_samples_leaf=6, min_samples_split=8, n_estimators=100\n",
      "[CV 3/3; 19/50] END max_depth=None, min_samples_leaf=6, min_samples_split=8, n_estimators=100;, score=0.785 total time=   0.5s\n",
      "[CV 1/3; 20/50] START max_depth=None, min_samples_leaf=2, min_samples_split=6, n_estimators=500\n",
      "[CV 1/3; 20/50] END max_depth=None, min_samples_leaf=2, min_samples_split=6, n_estimators=500;, score=0.793 total time=   2.0s\n",
      "[CV 2/3; 20/50] START max_depth=None, min_samples_leaf=2, min_samples_split=6, n_estimators=500\n",
      "[CV 2/3; 20/50] END max_depth=None, min_samples_leaf=2, min_samples_split=6, n_estimators=500;, score=0.790 total time=   2.0s\n",
      "[CV 3/3; 20/50] START max_depth=None, min_samples_leaf=2, min_samples_split=6, n_estimators=500\n",
      "[CV 3/3; 20/50] END max_depth=None, min_samples_leaf=2, min_samples_split=6, n_estimators=500;, score=0.776 total time=   1.9s\n",
      "[CV 1/3; 21/50] START max_depth=15, min_samples_leaf=6, min_samples_split=9, n_estimators=200\n",
      "[CV 1/3; 21/50] END max_depth=15, min_samples_leaf=6, min_samples_split=9, n_estimators=200;, score=0.793 total time=   0.6s\n",
      "[CV 2/3; 21/50] START max_depth=15, min_samples_leaf=6, min_samples_split=9, n_estimators=200\n",
      "[CV 2/3; 21/50] END max_depth=15, min_samples_leaf=6, min_samples_split=9, n_estimators=200;, score=0.795 total time=   0.6s\n",
      "[CV 3/3; 21/50] START max_depth=15, min_samples_leaf=6, min_samples_split=9, n_estimators=200\n",
      "[CV 3/3; 21/50] END max_depth=15, min_samples_leaf=6, min_samples_split=9, n_estimators=200;, score=0.788 total time=   0.7s\n",
      "[CV 1/3; 22/50] START max_depth=None, min_samples_leaf=2, min_samples_split=9, n_estimators=200\n",
      "[CV 1/3; 22/50] END max_depth=None, min_samples_leaf=2, min_samples_split=9, n_estimators=200;, score=0.792 total time=   0.7s\n",
      "[CV 2/3; 22/50] START max_depth=None, min_samples_leaf=2, min_samples_split=9, n_estimators=200\n",
      "[CV 2/3; 22/50] END max_depth=None, min_samples_leaf=2, min_samples_split=9, n_estimators=200;, score=0.787 total time=   0.7s\n",
      "[CV 3/3; 22/50] START max_depth=None, min_samples_leaf=2, min_samples_split=9, n_estimators=200\n",
      "[CV 3/3; 22/50] END max_depth=None, min_samples_leaf=2, min_samples_split=9, n_estimators=200;, score=0.779 total time=   0.7s\n",
      "[CV 1/3; 23/50] START max_depth=None, min_samples_leaf=1, min_samples_split=9, n_estimators=500\n",
      "[CV 1/3; 23/50] END max_depth=None, min_samples_leaf=1, min_samples_split=9, n_estimators=500;, score=0.788 total time=   2.0s\n",
      "[CV 2/3; 23/50] START max_depth=None, min_samples_leaf=1, min_samples_split=9, n_estimators=500\n",
      "[CV 2/3; 23/50] END max_depth=None, min_samples_leaf=1, min_samples_split=9, n_estimators=500;, score=0.783 total time=   2.0s\n",
      "[CV 3/3; 23/50] START max_depth=None, min_samples_leaf=1, min_samples_split=9, n_estimators=500\n",
      "[CV 3/3; 23/50] END max_depth=None, min_samples_leaf=1, min_samples_split=9, n_estimators=500;, score=0.776 total time=   2.0s\n",
      "[CV 1/3; 24/50] START max_depth=7, min_samples_leaf=2, min_samples_split=4, n_estimators=100\n",
      "[CV 1/3; 24/50] END max_depth=7, min_samples_leaf=2, min_samples_split=4, n_estimators=100;, score=0.787 total time=   0.2s\n",
      "[CV 2/3; 24/50] START max_depth=7, min_samples_leaf=2, min_samples_split=4, n_estimators=100\n",
      "[CV 2/3; 24/50] END max_depth=7, min_samples_leaf=2, min_samples_split=4, n_estimators=100;, score=0.787 total time=   0.2s\n",
      "[CV 3/3; 24/50] START max_depth=7, min_samples_leaf=2, min_samples_split=4, n_estimators=100\n",
      "[CV 3/3; 24/50] END max_depth=7, min_samples_leaf=2, min_samples_split=4, n_estimators=100;, score=0.797 total time=   0.3s\n",
      "[CV 1/3; 25/50] START max_depth=5, min_samples_leaf=9, min_samples_split=4, n_estimators=10\n",
      "[CV 1/3; 25/50] END max_depth=5, min_samples_leaf=9, min_samples_split=4, n_estimators=10;, score=0.779 total time=   0.0s\n",
      "[CV 2/3; 25/50] START max_depth=5, min_samples_leaf=9, min_samples_split=4, n_estimators=10\n",
      "[CV 2/3; 25/50] END max_depth=5, min_samples_leaf=9, min_samples_split=4, n_estimators=10;, score=0.779 total time=   0.0s\n",
      "[CV 3/3; 25/50] START max_depth=5, min_samples_leaf=9, min_samples_split=4, n_estimators=10\n",
      "[CV 3/3; 25/50] END max_depth=5, min_samples_leaf=9, min_samples_split=4, n_estimators=10;, score=0.773 total time=   0.0s\n",
      "[CV 1/3; 26/50] START max_depth=15, min_samples_leaf=8, min_samples_split=5, n_estimators=100\n",
      "[CV 1/3; 26/50] END max_depth=15, min_samples_leaf=8, min_samples_split=5, n_estimators=100;, score=0.793 total time=   0.3s\n",
      "[CV 2/3; 26/50] START max_depth=15, min_samples_leaf=8, min_samples_split=5, n_estimators=100\n",
      "[CV 2/3; 26/50] END max_depth=15, min_samples_leaf=8, min_samples_split=5, n_estimators=100;, score=0.793 total time=   0.3s\n",
      "[CV 3/3; 26/50] START max_depth=15, min_samples_leaf=8, min_samples_split=5, n_estimators=100\n",
      "[CV 3/3; 26/50] END max_depth=15, min_samples_leaf=8, min_samples_split=5, n_estimators=100;, score=0.789 total time=   0.3s\n",
      "[CV 1/3; 27/50] START max_depth=12, min_samples_leaf=2, min_samples_split=8, n_estimators=200\n",
      "[CV 1/3; 27/50] END max_depth=12, min_samples_leaf=2, min_samples_split=8, n_estimators=200;, score=0.794 total time=   0.7s\n",
      "[CV 2/3; 27/50] START max_depth=12, min_samples_leaf=2, min_samples_split=8, n_estimators=200\n",
      "[CV 2/3; 27/50] END max_depth=12, min_samples_leaf=2, min_samples_split=8, n_estimators=200;, score=0.790 total time=   0.7s\n",
      "[CV 3/3; 27/50] START max_depth=12, min_samples_leaf=2, min_samples_split=8, n_estimators=200\n",
      "[CV 3/3; 27/50] END max_depth=12, min_samples_leaf=2, min_samples_split=8, n_estimators=200;, score=0.786 total time=   0.6s\n",
      "[CV 1/3; 28/50] START max_depth=15, min_samples_leaf=6, min_samples_split=4, n_estimators=500\n",
      "[CV 1/3; 28/50] END max_depth=15, min_samples_leaf=6, min_samples_split=4, n_estimators=500;, score=0.797 total time=   1.7s\n",
      "[CV 2/3; 28/50] START max_depth=15, min_samples_leaf=6, min_samples_split=4, n_estimators=500\n",
      "[CV 2/3; 28/50] END max_depth=15, min_samples_leaf=6, min_samples_split=4, n_estimators=500;, score=0.793 total time=   1.7s\n",
      "[CV 3/3; 28/50] START max_depth=15, min_samples_leaf=6, min_samples_split=4, n_estimators=500\n",
      "[CV 3/3; 28/50] END max_depth=15, min_samples_leaf=6, min_samples_split=4, n_estimators=500;, score=0.791 total time=   1.7s\n",
      "[CV 1/3; 29/50] START max_depth=None, min_samples_leaf=9, min_samples_split=7, n_estimators=200\n",
      "[CV 1/3; 29/50] END max_depth=None, min_samples_leaf=9, min_samples_split=7, n_estimators=200;, score=0.797 total time=   0.6s\n",
      "[CV 2/3; 29/50] START max_depth=None, min_samples_leaf=9, min_samples_split=7, n_estimators=200\n",
      "[CV 2/3; 29/50] END max_depth=None, min_samples_leaf=9, min_samples_split=7, n_estimators=200;, score=0.797 total time=   0.8s\n",
      "[CV 3/3; 29/50] START max_depth=None, min_samples_leaf=9, min_samples_split=7, n_estimators=200\n",
      "[CV 3/3; 29/50] END max_depth=None, min_samples_leaf=9, min_samples_split=7, n_estimators=200;, score=0.789 total time=   0.7s\n",
      "[CV 1/3; 30/50] START max_depth=5, min_samples_leaf=2, min_samples_split=7, n_estimators=10\n",
      "[CV 1/3; 30/50] END max_depth=5, min_samples_leaf=2, min_samples_split=7, n_estimators=10;, score=0.776 total time=   0.0s\n",
      "[CV 2/3; 30/50] START max_depth=5, min_samples_leaf=2, min_samples_split=7, n_estimators=10\n",
      "[CV 2/3; 30/50] END max_depth=5, min_samples_leaf=2, min_samples_split=7, n_estimators=10;, score=0.781 total time=   0.0s\n",
      "[CV 3/3; 30/50] START max_depth=5, min_samples_leaf=2, min_samples_split=7, n_estimators=10\n",
      "[CV 3/3; 30/50] END max_depth=5, min_samples_leaf=2, min_samples_split=7, n_estimators=10;, score=0.766 total time=   0.0s\n",
      "[CV 1/3; 31/50] START max_depth=12, min_samples_leaf=6, min_samples_split=6, n_estimators=10\n",
      "[CV 1/3; 31/50] END max_depth=12, min_samples_leaf=6, min_samples_split=6, n_estimators=10;, score=0.788 total time=   0.0s\n",
      "[CV 2/3; 31/50] START max_depth=12, min_samples_leaf=6, min_samples_split=6, n_estimators=10\n",
      "[CV 2/3; 31/50] END max_depth=12, min_samples_leaf=6, min_samples_split=6, n_estimators=10;, score=0.792 total time=   0.0s\n",
      "[CV 3/3; 31/50] START max_depth=12, min_samples_leaf=6, min_samples_split=6, n_estimators=10\n",
      "[CV 3/3; 31/50] END max_depth=12, min_samples_leaf=6, min_samples_split=6, n_estimators=10;, score=0.785 total time=   0.0s\n",
      "[CV 1/3; 32/50] START max_depth=None, min_samples_leaf=1, min_samples_split=6, n_estimators=500\n",
      "[CV 1/3; 32/50] END max_depth=None, min_samples_leaf=1, min_samples_split=6, n_estimators=500;, score=0.788 total time=   2.2s\n",
      "[CV 2/3; 32/50] START max_depth=None, min_samples_leaf=1, min_samples_split=6, n_estimators=500\n",
      "[CV 2/3; 32/50] END max_depth=None, min_samples_leaf=1, min_samples_split=6, n_estimators=500;, score=0.781 total time=   2.1s\n",
      "[CV 3/3; 32/50] START max_depth=None, min_samples_leaf=1, min_samples_split=6, n_estimators=500\n",
      "[CV 3/3; 32/50] END max_depth=None, min_samples_leaf=1, min_samples_split=6, n_estimators=500;, score=0.775 total time=   2.1s\n",
      "[CV 1/3; 33/50] START max_depth=7, min_samples_leaf=3, min_samples_split=3, n_estimators=100\n",
      "[CV 1/3; 33/50] END max_depth=7, min_samples_leaf=3, min_samples_split=3, n_estimators=100;, score=0.783 total time=   0.2s\n",
      "[CV 2/3; 33/50] START max_depth=7, min_samples_leaf=3, min_samples_split=3, n_estimators=100\n",
      "[CV 2/3; 33/50] END max_depth=7, min_samples_leaf=3, min_samples_split=3, n_estimators=100;, score=0.788 total time=   0.2s\n",
      "[CV 3/3; 33/50] START max_depth=7, min_samples_leaf=3, min_samples_split=3, n_estimators=100\n",
      "[CV 3/3; 33/50] END max_depth=7, min_samples_leaf=3, min_samples_split=3, n_estimators=100;, score=0.798 total time=   0.2s\n",
      "[CV 1/3; 34/50] START max_depth=None, min_samples_leaf=5, min_samples_split=7, n_estimators=10\n",
      "[CV 1/3; 34/50] END max_depth=None, min_samples_leaf=5, min_samples_split=7, n_estimators=10;, score=0.786 total time=   0.0s\n",
      "[CV 2/3; 34/50] START max_depth=None, min_samples_leaf=5, min_samples_split=7, n_estimators=10\n",
      "[CV 2/3; 34/50] END max_depth=None, min_samples_leaf=5, min_samples_split=7, n_estimators=10;, score=0.791 total time=   0.0s\n",
      "[CV 3/3; 34/50] START max_depth=None, min_samples_leaf=5, min_samples_split=7, n_estimators=10\n",
      "[CV 3/3; 34/50] END max_depth=None, min_samples_leaf=5, min_samples_split=7, n_estimators=10;, score=0.782 total time=   0.0s\n",
      "[CV 1/3; 35/50] START max_depth=7, min_samples_leaf=7, min_samples_split=8, n_estimators=200\n",
      "[CV 1/3; 35/50] END max_depth=7, min_samples_leaf=7, min_samples_split=8, n_estimators=200;, score=0.781 total time=   0.6s\n",
      "[CV 2/3; 35/50] START max_depth=7, min_samples_leaf=7, min_samples_split=8, n_estimators=200\n",
      "[CV 2/3; 35/50] END max_depth=7, min_samples_leaf=7, min_samples_split=8, n_estimators=200;, score=0.790 total time=   0.5s\n",
      "[CV 3/3; 35/50] START max_depth=7, min_samples_leaf=7, min_samples_split=8, n_estimators=200\n",
      "[CV 3/3; 35/50] END max_depth=7, min_samples_leaf=7, min_samples_split=8, n_estimators=200;, score=0.798 total time=   0.5s\n",
      "[CV 1/3; 36/50] START max_depth=5, min_samples_leaf=5, min_samples_split=2, n_estimators=100\n",
      "[CV 1/3; 36/50] END max_depth=5, min_samples_leaf=5, min_samples_split=2, n_estimators=100;, score=0.776 total time=   0.2s\n",
      "[CV 2/3; 36/50] START max_depth=5, min_samples_leaf=5, min_samples_split=2, n_estimators=100\n",
      "[CV 2/3; 36/50] END max_depth=5, min_samples_leaf=5, min_samples_split=2, n_estimators=100;, score=0.783 total time=   0.2s\n",
      "[CV 3/3; 36/50] START max_depth=5, min_samples_leaf=5, min_samples_split=2, n_estimators=100\n",
      "[CV 3/3; 36/50] END max_depth=5, min_samples_leaf=5, min_samples_split=2, n_estimators=100;, score=0.784 total time=   0.2s\n",
      "[CV 1/3; 37/50] START max_depth=None, min_samples_leaf=8, min_samples_split=3, n_estimators=500\n",
      "[CV 1/3; 37/50] END max_depth=None, min_samples_leaf=8, min_samples_split=3, n_estimators=500;, score=0.796 total time=   1.7s\n",
      "[CV 2/3; 37/50] START max_depth=None, min_samples_leaf=8, min_samples_split=3, n_estimators=500\n",
      "[CV 2/3; 37/50] END max_depth=None, min_samples_leaf=8, min_samples_split=3, n_estimators=500;, score=0.793 total time=   1.7s\n",
      "[CV 3/3; 37/50] START max_depth=None, min_samples_leaf=8, min_samples_split=3, n_estimators=500\n",
      "[CV 3/3; 37/50] END max_depth=None, min_samples_leaf=8, min_samples_split=3, n_estimators=500;, score=0.791 total time=   1.6s\n",
      "[CV 1/3; 38/50] START max_depth=7, min_samples_leaf=8, min_samples_split=3, n_estimators=200\n",
      "[CV 1/3; 38/50] END max_depth=7, min_samples_leaf=8, min_samples_split=3, n_estimators=200;, score=0.784 total time=   0.5s\n",
      "[CV 2/3; 38/50] START max_depth=7, min_samples_leaf=8, min_samples_split=3, n_estimators=200\n",
      "[CV 2/3; 38/50] END max_depth=7, min_samples_leaf=8, min_samples_split=3, n_estimators=200;, score=0.786 total time=   0.5s\n",
      "[CV 3/3; 38/50] START max_depth=7, min_samples_leaf=8, min_samples_split=3, n_estimators=200\n",
      "[CV 3/3; 38/50] END max_depth=7, min_samples_leaf=8, min_samples_split=3, n_estimators=200;, score=0.794 total time=   0.6s\n",
      "[CV 1/3; 39/50] START max_depth=7, min_samples_leaf=3, min_samples_split=9, n_estimators=200\n",
      "[CV 1/3; 39/50] END max_depth=7, min_samples_leaf=3, min_samples_split=9, n_estimators=200;, score=0.782 total time=   0.6s\n",
      "[CV 2/3; 39/50] START max_depth=7, min_samples_leaf=3, min_samples_split=9, n_estimators=200\n",
      "[CV 2/3; 39/50] END max_depth=7, min_samples_leaf=3, min_samples_split=9, n_estimators=200;, score=0.788 total time=   0.5s\n",
      "[CV 3/3; 39/50] START max_depth=7, min_samples_leaf=3, min_samples_split=9, n_estimators=200\n",
      "[CV 3/3; 39/50] END max_depth=7, min_samples_leaf=3, min_samples_split=9, n_estimators=200;, score=0.794 total time=   0.5s\n",
      "[CV 1/3; 40/50] START max_depth=7, min_samples_leaf=3, min_samples_split=7, n_estimators=10\n",
      "[CV 1/3; 40/50] END max_depth=7, min_samples_leaf=3, min_samples_split=7, n_estimators=10;, score=0.781 total time=   0.0s\n",
      "[CV 2/3; 40/50] START max_depth=7, min_samples_leaf=3, min_samples_split=7, n_estimators=10\n",
      "[CV 2/3; 40/50] END max_depth=7, min_samples_leaf=3, min_samples_split=7, n_estimators=10;, score=0.784 total time=   0.0s\n",
      "[CV 3/3; 40/50] START max_depth=7, min_samples_leaf=3, min_samples_split=7, n_estimators=10\n",
      "[CV 3/3; 40/50] END max_depth=7, min_samples_leaf=3, min_samples_split=7, n_estimators=10;, score=0.792 total time=   0.0s\n",
      "[CV 1/3; 41/50] START max_depth=5, min_samples_leaf=3, min_samples_split=2, n_estimators=200\n",
      "[CV 1/3; 41/50] END max_depth=5, min_samples_leaf=3, min_samples_split=2, n_estimators=200;, score=0.778 total time=   0.5s\n",
      "[CV 2/3; 41/50] START max_depth=5, min_samples_leaf=3, min_samples_split=2, n_estimators=200\n",
      "[CV 2/3; 41/50] END max_depth=5, min_samples_leaf=3, min_samples_split=2, n_estimators=200;, score=0.781 total time=   0.5s\n",
      "[CV 3/3; 41/50] START max_depth=5, min_samples_leaf=3, min_samples_split=2, n_estimators=200\n",
      "[CV 3/3; 41/50] END max_depth=5, min_samples_leaf=3, min_samples_split=2, n_estimators=200;, score=0.779 total time=   0.5s\n",
      "[CV 1/3; 42/50] START max_depth=12, min_samples_leaf=3, min_samples_split=4, n_estimators=100\n",
      "[CV 1/3; 42/50] END max_depth=12, min_samples_leaf=3, min_samples_split=4, n_estimators=100;, score=0.793 total time=   0.3s\n",
      "[CV 2/3; 42/50] START max_depth=12, min_samples_leaf=3, min_samples_split=4, n_estimators=100\n",
      "[CV 2/3; 42/50] END max_depth=12, min_samples_leaf=3, min_samples_split=4, n_estimators=100;, score=0.791 total time=   0.3s\n",
      "[CV 3/3; 42/50] START max_depth=12, min_samples_leaf=3, min_samples_split=4, n_estimators=100\n",
      "[CV 3/3; 42/50] END max_depth=12, min_samples_leaf=3, min_samples_split=4, n_estimators=100;, score=0.785 total time=   0.3s\n",
      "[CV 1/3; 43/50] START max_depth=7, min_samples_leaf=3, min_samples_split=8, n_estimators=10\n",
      "[CV 1/3; 43/50] END max_depth=7, min_samples_leaf=3, min_samples_split=8, n_estimators=10;, score=0.772 total time=   0.0s\n",
      "[CV 2/3; 43/50] START max_depth=7, min_samples_leaf=3, min_samples_split=8, n_estimators=10\n",
      "[CV 2/3; 43/50] END max_depth=7, min_samples_leaf=3, min_samples_split=8, n_estimators=10;, score=0.783 total time=   0.0s\n",
      "[CV 3/3; 43/50] START max_depth=7, min_samples_leaf=3, min_samples_split=8, n_estimators=10\n",
      "[CV 3/3; 43/50] END max_depth=7, min_samples_leaf=3, min_samples_split=8, n_estimators=10;, score=0.787 total time=   0.0s\n",
      "[CV 1/3; 44/50] START max_depth=None, min_samples_leaf=9, min_samples_split=6, n_estimators=100\n",
      "[CV 1/3; 44/50] END max_depth=None, min_samples_leaf=9, min_samples_split=6, n_estimators=100;, score=0.794 total time=   0.3s\n",
      "[CV 2/3; 44/50] START max_depth=None, min_samples_leaf=9, min_samples_split=6, n_estimators=100\n",
      "[CV 2/3; 44/50] END max_depth=None, min_samples_leaf=9, min_samples_split=6, n_estimators=100;, score=0.794 total time=   0.3s\n",
      "[CV 3/3; 44/50] START max_depth=None, min_samples_leaf=9, min_samples_split=6, n_estimators=100\n",
      "[CV 3/3; 44/50] END max_depth=None, min_samples_leaf=9, min_samples_split=6, n_estimators=100;, score=0.789 total time=   0.3s\n",
      "[CV 1/3; 45/50] START max_depth=15, min_samples_leaf=6, min_samples_split=7, n_estimators=500\n",
      "[CV 1/3; 45/50] END max_depth=15, min_samples_leaf=6, min_samples_split=7, n_estimators=500;, score=0.797 total time=   1.9s\n",
      "[CV 2/3; 45/50] START max_depth=15, min_samples_leaf=6, min_samples_split=7, n_estimators=500\n",
      "[CV 2/3; 45/50] END max_depth=15, min_samples_leaf=6, min_samples_split=7, n_estimators=500;, score=0.793 total time=   1.7s\n",
      "[CV 3/3; 45/50] START max_depth=15, min_samples_leaf=6, min_samples_split=7, n_estimators=500\n",
      "[CV 3/3; 45/50] END max_depth=15, min_samples_leaf=6, min_samples_split=7, n_estimators=500;, score=0.791 total time=   1.7s\n",
      "[CV 1/3; 46/50] START max_depth=15, min_samples_leaf=3, min_samples_split=2, n_estimators=500\n",
      "[CV 1/3; 46/50] END max_depth=15, min_samples_leaf=3, min_samples_split=2, n_estimators=500;, score=0.796 total time=   2.1s\n",
      "[CV 2/3; 46/50] START max_depth=15, min_samples_leaf=3, min_samples_split=2, n_estimators=500\n",
      "[CV 2/3; 46/50] END max_depth=15, min_samples_leaf=3, min_samples_split=2, n_estimators=500;, score=0.791 total time=   1.9s\n",
      "[CV 3/3; 46/50] START max_depth=15, min_samples_leaf=3, min_samples_split=2, n_estimators=500\n",
      "[CV 3/3; 46/50] END max_depth=15, min_samples_leaf=3, min_samples_split=2, n_estimators=500;, score=0.785 total time=   1.8s\n",
      "[CV 1/3; 47/50] START max_depth=10, min_samples_leaf=9, min_samples_split=8, n_estimators=100\n",
      "[CV 1/3; 47/50] END max_depth=10, min_samples_leaf=9, min_samples_split=8, n_estimators=100;, score=0.792 total time=   0.3s\n",
      "[CV 2/3; 47/50] START max_depth=10, min_samples_leaf=9, min_samples_split=8, n_estimators=100\n",
      "[CV 2/3; 47/50] END max_depth=10, min_samples_leaf=9, min_samples_split=8, n_estimators=100;, score=0.793 total time=   0.3s\n",
      "[CV 3/3; 47/50] START max_depth=10, min_samples_leaf=9, min_samples_split=8, n_estimators=100\n",
      "[CV 3/3; 47/50] END max_depth=10, min_samples_leaf=9, min_samples_split=8, n_estimators=100;, score=0.788 total time=   0.3s\n",
      "[CV 1/3; 48/50] START max_depth=None, min_samples_leaf=9, min_samples_split=2, n_estimators=100\n",
      "[CV 1/3; 48/50] END max_depth=None, min_samples_leaf=9, min_samples_split=2, n_estimators=100;, score=0.794 total time=   0.3s\n",
      "[CV 2/3; 48/50] START max_depth=None, min_samples_leaf=9, min_samples_split=2, n_estimators=100\n",
      "[CV 2/3; 48/50] END max_depth=None, min_samples_leaf=9, min_samples_split=2, n_estimators=100;, score=0.794 total time=   0.3s\n",
      "[CV 3/3; 48/50] START max_depth=None, min_samples_leaf=9, min_samples_split=2, n_estimators=100\n",
      "[CV 3/3; 48/50] END max_depth=None, min_samples_leaf=9, min_samples_split=2, n_estimators=100;, score=0.789 total time=   0.3s\n",
      "[CV 1/3; 49/50] START max_depth=None, min_samples_leaf=2, min_samples_split=8, n_estimators=500\n",
      "[CV 1/3; 49/50] END max_depth=None, min_samples_leaf=2, min_samples_split=8, n_estimators=500;, score=0.792 total time=   2.1s\n",
      "[CV 2/3; 49/50] START max_depth=None, min_samples_leaf=2, min_samples_split=8, n_estimators=500\n",
      "[CV 2/3; 49/50] END max_depth=None, min_samples_leaf=2, min_samples_split=8, n_estimators=500;, score=0.786 total time=   2.0s\n",
      "[CV 3/3; 49/50] START max_depth=None, min_samples_leaf=2, min_samples_split=8, n_estimators=500\n",
      "[CV 3/3; 49/50] END max_depth=None, min_samples_leaf=2, min_samples_split=8, n_estimators=500;, score=0.781 total time=   2.1s\n",
      "[CV 1/3; 50/50] START max_depth=15, min_samples_leaf=9, min_samples_split=2, n_estimators=500\n",
      "[CV 1/3; 50/50] END max_depth=15, min_samples_leaf=9, min_samples_split=2, n_estimators=500;, score=0.796 total time=   1.7s\n",
      "[CV 2/3; 50/50] START max_depth=15, min_samples_leaf=9, min_samples_split=2, n_estimators=500\n",
      "[CV 2/3; 50/50] END max_depth=15, min_samples_leaf=9, min_samples_split=2, n_estimators=500;, score=0.794 total time=   1.6s\n",
      "[CV 3/3; 50/50] START max_depth=15, min_samples_leaf=9, min_samples_split=2, n_estimators=500\n",
      "[CV 3/3; 50/50] END max_depth=15, min_samples_leaf=9, min_samples_split=2, n_estimators=500;, score=0.790 total time=   1.6s\n"
     ]
    },
    {
     "data": {
      "text/plain": [
       "RandomizedSearchCV(cv=3, estimator=RandomForestClassifier(random_state=42),\n",
       "                   n_iter=50,\n",
       "                   param_distributions={'max_depth': [None, 5, 7, 10, 12, 15],\n",
       "                                        'min_samples_leaf': [1, 2, 3, 4, 5, 6,\n",
       "                                                             7, 8, 9],\n",
       "                                        'min_samples_split': [2, 3, 4, 5, 6, 7,\n",
       "                                                              8, 9],\n",
       "                                        'n_estimators': [10, 100, 200, 500]},\n",
       "                   verbose=10)"
      ]
     },
     "execution_count": 50,
     "metadata": {},
     "output_type": "execute_result"
    }
   ],
   "source": [
    "rand_search = RandomizedSearchCV(model_hipertuning, espaco_hiperparametros, n_iter=50, cv=3, verbose=10)\n",
    "rand_search.fit(X_train, y_train)"
   ]
  },
  {
   "cell_type": "code",
   "execution_count": 53,
   "metadata": {},
   "outputs": [
    {
     "data": {
      "text/plain": [
       "{'n_estimators': 100,\n",
       " 'min_samples_split': 6,\n",
       " 'min_samples_leaf': 8,\n",
       " 'max_depth': None}"
      ]
     },
     "execution_count": 53,
     "metadata": {},
     "output_type": "execute_result"
    }
   ],
   "source": [
    "rand_search.best_params_"
   ]
  },
  {
   "cell_type": "code",
   "execution_count": 56,
   "metadata": {},
   "outputs": [
    {
     "data": {
      "text/plain": [
       "0.7979294478527608"
      ]
     },
     "execution_count": 56,
     "metadata": {},
     "output_type": "execute_result"
    }
   ],
   "source": [
    "model_hipertunning = RandomForestClassifier(n_estimators=100, min_samples_split=6, min_samples_leaf=8, max_depth=None, random_state=42)\n",
    "\n",
    "model_hipertunning.fit(X_train, y_train)\n",
    "\n",
    "y_pred = model_hipertunning.predict(X_val)\n",
    "accuracy_score(y_val, y_pred)"
   ]
  },
  {
   "cell_type": "markdown",
   "metadata": {},
   "source": [
    "## Hiperparam + Feature Selection"
   ]
  },
  {
   "cell_type": "code",
   "execution_count": 57,
   "metadata": {},
   "outputs": [
    {
     "data": {
      "text/plain": [
       "0.7983128834355828"
      ]
     },
     "execution_count": 57,
     "metadata": {},
     "output_type": "execute_result"
    }
   ],
   "source": [
    "model_hipertunning = RandomForestClassifier(n_estimators=100, min_samples_split=6, min_samples_leaf=8, max_depth=None, random_state=42)\n",
    "\n",
    "X_train_chi2 = fs.transform(X_train)\n",
    "X_val_chi2 = fs.transform(X_val)\n",
    "\n",
    "model_hipertunning.fit(X_train_chi2, y_train)\n",
    "\n",
    "y_pred = model_hipertunning.predict(X_val_chi2)\n",
    "accuracy_score(y_val, y_pred)"
   ]
  },
  {
   "cell_type": "markdown",
   "metadata": {},
   "source": [
    "## Conclusao\n",
    "Usando os dois metodos acima, conseguimos um ganho de desempenho, nao muito grande, mas ainda sim consideravel."
   ]
  },
  {
   "cell_type": "markdown",
   "metadata": {},
   "source": []
  }
 ],
 "metadata": {
  "interpreter": {
   "hash": "294f4e376c61358df80e6706e213556bfb570c6a90a2a414c97021af04b3e4fd"
  },
  "kernelspec": {
   "display_name": "Python 3.7.11 ('santander')",
   "language": "python",
   "name": "python3"
  },
  "language_info": {
   "codemirror_mode": {
    "name": "ipython",
    "version": 3
   },
   "file_extension": ".py",
   "mimetype": "text/x-python",
   "name": "python",
   "nbconvert_exporter": "python",
   "pygments_lexer": "ipython3",
   "version": "3.8.8"
  },
  "orig_nbformat": 4
 },
 "nbformat": 4,
 "nbformat_minor": 2
}
